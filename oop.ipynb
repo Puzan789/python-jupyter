{
 "cells": [
  {
   "cell_type": "markdown",
   "id": "d5f4c16b",
   "metadata": {},
   "source": [
    "# OOP(object oriented programming)"
   ]
  },
  {
   "cell_type": "code",
   "execution_count": 6,
   "id": "a941d805",
   "metadata": {},
   "outputs": [
    {
     "name": "stdout",
     "output_type": "stream",
     "text": [
      "hello world\n"
     ]
    }
   ],
   "source": [
    "class helping:\n",
    "    def pukar():\n",
    "        print(\"hello world\")\n",
    "p=helping\n",
    "p.pukar()"
   ]
  },
  {
   "cell_type": "code",
   "execution_count": 20,
   "id": "a113195a",
   "metadata": {},
   "outputs": [
    {
     "name": "stdout",
     "output_type": "stream",
     "text": [
      "5\n"
     ]
    }
   ],
   "source": [
    "class item():\n",
    "    def __init__(self,x,y):\n",
    "        self.x=x\n",
    "        self.y=y\n",
    "    def tot(self):\n",
    "        print(self.x)\n",
    "\n",
    "item1=item(5,9)\n",
    "item1.tot()\n"
   ]
  },
  {
   "cell_type": "code",
   "execution_count": 24,
   "id": "3b942d37",
   "metadata": {},
   "outputs": [
    {
     "name": "stdout",
     "output_type": "stream",
     "text": [
      "5\n"
     ]
    }
   ],
   "source": [
    "class item():\n",
    "    def __init__(self,x,y):\n",
    "        self.x=x\n",
    "        self.y=y\n",
    "    def tot(self):\n",
    "        print(self.x)\n",
    "\n",
    "item1=item(5,6)\n",
    "item1.tot()"
   ]
  },
  {
   "cell_type": "code",
   "execution_count": 26,
   "id": "9ef2d91c",
   "metadata": {},
   "outputs": [
    {
     "name": "stdout",
     "output_type": "stream",
     "text": [
      "2800\n"
     ]
    }
   ],
   "source": [
    "class press:\n",
    "    def total(self,x,y):\n",
    "        return x*y\n",
    "p=press()\n",
    "\n",
    "print(p.total(70,40))"
   ]
  },
  {
   "cell_type": "markdown",
   "id": "65b2616b",
   "metadata": {},
   "source": [
    "# Constructors"
   ]
  },
  {
   "cell_type": "code",
   "execution_count": 41,
   "id": "2a4c1634",
   "metadata": {},
   "outputs": [
    {
     "name": "stdout",
     "output_type": "stream",
     "text": [
      "i am self created puzan\n",
      "i am self created rekhs\n"
     ]
    }
   ],
   "source": [
    "class items:\n",
    "    def __init__(self,name):\n",
    "        self.name=name\n",
    "        print(\"i am self created\",self.name)\n",
    "item1=items(\"puzan\")\n",
    "item2=items(\"rekhs\")"
   ]
  },
  {
   "cell_type": "code",
   "execution_count": 66,
   "id": "ccaa98dd",
   "metadata": {},
   "outputs": [
    {
     "name": "stdout",
     "output_type": "stream",
     "text": [
      "i am self created pupsdsdd\n",
      "i am self created rekhsjdis\n"
     ]
    }
   ],
   "source": [
    "class items:\n",
    "    kits=0.54\n",
    "    def __init__(self,name):\n",
    "        assert len(name)>6,\"name {name} length should be greater than 6\" #name should be greater than 6\n",
    "        self.name=name\n",
    "        print(\"i am self created\",self.name)\n",
    "    def total(self,discount):\n",
    "        return discount*items.kits\n",
    "    def __repr__(self):\n",
    "        return f\"item('{self.name}')\"\n",
    "item1=items(\"pupsdsdd\")\n",
    "item2=items(\"rekhsjdis\")\n"
   ]
  },
  {
   "cell_type": "code",
   "execution_count": 67,
   "id": "77bfabd8",
   "metadata": {},
   "outputs": [
    {
     "name": "stdout",
     "output_type": "stream",
     "text": [
      "i am self created haripandey\n"
     ]
    },
    {
     "data": {
      "text/plain": [
       "('haripandey', 2.7)"
      ]
     },
     "execution_count": 67,
     "metadata": {},
     "output_type": "execute_result"
    }
   ],
   "source": [
    "class items:\n",
    "    kits=0.54\n",
    "    def __init__(self,name):\n",
    "        assert len(name)>6,\"name {name} length should be greater than 6\" #name should be greater than 6\n",
    "        self.name=name\n",
    "        print(\"i am self created\",self.name)\n",
    "    def total(self,discount):\n",
    "        return self.name,discount*items.kits\n",
    "item1=items(\"haripandey\")\n",
    "item1.total(5)"
   ]
  },
  {
   "cell_type": "markdown",
   "id": "40b7cd3d",
   "metadata": {},
   "source": [
    "# Static Methods"
   ]
  },
  {
   "cell_type": "code",
   "execution_count": 3,
   "id": "7b1da541",
   "metadata": {},
   "outputs": [
    {
     "name": "stdout",
     "output_type": "stream",
     "text": [
      "{'name': 'phone', 'price': '100', 'quantity': '1'}\n",
      "{'name': 'laptop', 'price': '1000', 'quantity': '3'}\n",
      "{'name': 'cable', 'price': '10', 'quantity': '5'}\n",
      "{'name': 'mouse', 'price': '50', 'quantity': '5'}\n",
      "{'name': 'keyboard', 'price': '75', 'quantity': '5'}\n"
     ]
    }
   ],
   "source": [
    "import csv\n",
    "class Item:\n",
    "    pay_rate = 0.8 # The pay rate after 20% discount\n",
    "    all = []\n",
    "    def __init__(self, name: str, price: float, quantity=0):\n",
    "        # Run validations to the received arguments\n",
    "        assert price >= 0, f\"Price {price} is not greater than or equal to zero!\"\n",
    "        assert quantity >= 0, f\"Quantity {quantity} is not greater or equal to zero!\"\n",
    "\n",
    "        # Assign to self object\n",
    "        self.name = name\n",
    "        self.price = price\n",
    "        self.quantity = quantity\n",
    "\n",
    "        # Actions to execute\n",
    "        Item.all.append(self)\n",
    "\n",
    "    def calculate_total_price(self):\n",
    "        return self.price * self.quantity\n",
    "\n",
    "    def apply_discount(self):\n",
    "        self.price = self.price * self.pay_rate\n",
    "    @classmethod\n",
    "    def instantiate_from_csv(cls):\n",
    "        with open('items.csv','r') as f:\n",
    "            reader=csv.DictReader(f)\n",
    "            items=list(reader)\n",
    "        for item in items:\n",
    "            print(item)\n",
    "\n",
    "\n",
    "    def __repr__(self):\n",
    "        return f\"Item('{self.name}', {self.price}, {self.quantity})\"\n",
    "\n",
    "Item.instantiate_from_csv()"
   ]
  },
  {
   "cell_type": "code",
   "execution_count": null,
   "id": "70c919cf",
   "metadata": {},
   "outputs": [],
   "source": []
  }
 ],
 "metadata": {
  "kernelspec": {
   "display_name": "base",
   "language": "python",
   "name": "python3"
  },
  "language_info": {
   "codemirror_mode": {
    "name": "ipython",
    "version": 3
   },
   "file_extension": ".py",
   "mimetype": "text/x-python",
   "name": "python",
   "nbconvert_exporter": "python",
   "pygments_lexer": "ipython3",
   "version": "3.9.13 (main, Aug 25 2022, 23:51:50) [MSC v.1916 64 bit (AMD64)]"
  },
  "vscode": {
   "interpreter": {
    "hash": "ad2bdc8ecc057115af97d19610ffacc2b4e99fae6737bb82f5d7fb13d2f2c186"
   }
  }
 },
 "nbformat": 4,
 "nbformat_minor": 5
}
