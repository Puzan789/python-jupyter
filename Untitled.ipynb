{
 "cells": [
  {
   "cell_type": "markdown",
   "id": "3a624a9f",
   "metadata": {},
   "source": [
    "# Variables\n"
   ]
  },
  {
   "cell_type": "code",
   "execution_count": 2,
   "id": "585fc172",
   "metadata": {},
   "outputs": [
    {
     "name": "stdout",
     "output_type": "stream",
     "text": [
      "12\n"
     ]
    }
   ],
   "source": [
    "a=5\n",
    "b=7\n",
    "print(a+b)\n"
   ]
  },
  {
   "cell_type": "code",
   "execution_count": 3,
   "id": "7882de68",
   "metadata": {},
   "outputs": [
    {
     "name": "stdout",
     "output_type": "stream",
     "text": [
      "<class 'int'>\n"
     ]
    }
   ],
   "source": [
    "print(type(a))"
   ]
  },
  {
   "cell_type": "code",
   "execution_count": 4,
   "id": "61a4d83f",
   "metadata": {},
   "outputs": [
    {
     "name": "stdout",
     "output_type": "stream",
     "text": [
      "<class 'float'>\n"
     ]
    }
   ],
   "source": [
    "a=6.7\n",
    "print(type(a))"
   ]
  },
  {
   "cell_type": "code",
   "execution_count": 5,
   "id": "0cb4eed2",
   "metadata": {},
   "outputs": [],
   "source": [
    "abcd=6543.98"
   ]
  },
  {
   "cell_type": "code",
   "execution_count": 6,
   "id": "6518738f",
   "metadata": {},
   "outputs": [
    {
     "name": "stdout",
     "output_type": "stream",
     "text": [
      "Variable   Type     Data/Info\n",
      "-----------------------------\n",
      "a          float    6.7\n",
      "abcd       float    6543.98\n",
      "b          int      7\n",
      "y          int      6\n"
     ]
    }
   ],
   "source": [
    "%whos"
   ]
  },
  {
   "cell_type": "code",
   "execution_count": 7,
   "id": "381e79e4",
   "metadata": {},
   "outputs": [],
   "source": [
    "a,b,c,d,e,f,g=3,5,6,7,8,4,9.0"
   ]
  },
  {
   "cell_type": "code",
   "execution_count": 8,
   "id": "ba6f4f60",
   "metadata": {},
   "outputs": [
    {
     "name": "stdout",
     "output_type": "stream",
     "text": [
      "Variable   Type     Data/Info\n",
      "-----------------------------\n",
      "a          int      3\n",
      "abcd       float    6543.98\n",
      "b          int      5\n",
      "c          int      6\n",
      "d          int      7\n",
      "e          int      8\n",
      "f          int      4\n",
      "g          float    9.0\n",
      "y          int      6\n"
     ]
    }
   ],
   "source": [
    "%whos"
   ]
  },
  {
   "cell_type": "code",
   "execution_count": 9,
   "id": "e39a1542",
   "metadata": {},
   "outputs": [
    {
     "name": "stdout",
     "output_type": "stream",
     "text": [
      "(2+4j)\n"
     ]
    }
   ],
   "source": [
    "a=2+4j \n",
    "print(a)"
   ]
  },
  {
   "cell_type": "code",
   "execution_count": 10,
   "id": "5c33aef6",
   "metadata": {},
   "outputs": [
    {
     "name": "stdout",
     "output_type": "stream",
     "text": [
      "(4+9j)\n"
     ]
    }
   ],
   "source": [
    "a=2+4j \n",
    "B=2+5j\n",
    "print(a+B)\n",
    "\n"
   ]
  },
  {
   "cell_type": "code",
   "execution_count": 19,
   "id": "8981bce3",
   "metadata": {},
   "outputs": [],
   "source": [
    "a=64//3"
   ]
  },
  {
   "cell_type": "code",
   "execution_count": 20,
   "id": "f3a9f4e4",
   "metadata": {},
   "outputs": [
    {
     "name": "stdout",
     "output_type": "stream",
     "text": [
      "21\n"
     ]
    }
   ],
   "source": [
    "print(a)"
   ]
  },
  {
   "cell_type": "markdown",
   "id": "44f6a16d",
   "metadata": {},
   "source": [
    "# operators"
   ]
  },
  {
   "cell_type": "code",
   "execution_count": 21,
   "id": "07115438",
   "metadata": {},
   "outputs": [
    {
     "name": "stdout",
     "output_type": "stream",
     "text": [
      "Variable   Type       Data/Info\n",
      "-------------------------------\n",
      "B          complex    (2+5j)\n",
      "a          int        21\n",
      "abcd       float      6543.98\n",
      "b          int        5\n",
      "c          int        6\n",
      "d          int        7\n",
      "e          int        8\n",
      "f          int        4\n",
      "g          float      9.0\n",
      "y          int        6\n"
     ]
    }
   ],
   "source": [
    "%whos"
   ]
  },
  {
   "cell_type": "code",
   "execution_count": 22,
   "id": "5a80d023",
   "metadata": {},
   "outputs": [
    {
     "data": {
      "text/plain": [
       "26"
      ]
     },
     "execution_count": 22,
     "metadata": {},
     "output_type": "execute_result"
    }
   ],
   "source": [
    "a+b"
   ]
  },
  {
   "cell_type": "code",
   "execution_count": 23,
   "id": "f2c95c0f",
   "metadata": {},
   "outputs": [
    {
     "ename": "SyntaxError",
     "evalue": "invalid syntax (3847399475.py, line 1)",
     "output_type": "error",
     "traceback": [
      "\u001b[1;36m  File \u001b[1;32m\"C:\\Users\\User\\AppData\\Local\\Temp\\ipykernel_8916\\3847399475.py\"\u001b[1;36m, line \u001b[1;32m1\u001b[0m\n\u001b[1;33m    type(abcd)%%!\u001b[0m\n\u001b[1;37m               ^\u001b[0m\n\u001b[1;31mSyntaxError\u001b[0m\u001b[1;31m:\u001b[0m invalid syntax\n"
     ]
    }
   ],
   "source": [
    "type(abcd)%%!"
   ]
  },
  {
   "cell_type": "code",
   "execution_count": 28,
   "id": "e2aeedeb",
   "metadata": {},
   "outputs": [
    {
     "name": "stdout",
     "output_type": "stream",
     "text": [
      "False\n",
      "True\n"
     ]
    }
   ],
   "source": [
    "a=True\n",
    "b=False\n",
    "print(a and b)\n",
    "print(a or b)\n",
    "# print(a not b)"
   ]
  },
  {
   "cell_type": "markdown",
   "id": "85b63638",
   "metadata": {},
   "source": [
    "# comparisons\n"
   ]
  },
  {
   "cell_type": "code",
   "execution_count": 29,
   "id": "c989c7d3",
   "metadata": {},
   "outputs": [],
   "source": [
    "c=2<3"
   ]
  },
  {
   "cell_type": "code",
   "execution_count": 30,
   "id": "53be9935",
   "metadata": {},
   "outputs": [
    {
     "name": "stdout",
     "output_type": "stream",
     "text": [
      "True\n"
     ]
    }
   ],
   "source": [
    "print(c)"
   ]
  },
  {
   "cell_type": "code",
   "execution_count": 31,
   "id": "da209810",
   "metadata": {},
   "outputs": [
    {
     "data": {
      "text/plain": [
       "False"
      ]
     },
     "execution_count": 31,
     "metadata": {},
     "output_type": "execute_result"
    }
   ],
   "source": [
    "d==c"
   ]
  },
  {
   "cell_type": "code",
   "execution_count": 32,
   "id": "f928bf50",
   "metadata": {},
   "outputs": [
    {
     "name": "stdout",
     "output_type": "stream",
     "text": [
      "Variable   Type       Data/Info\n",
      "-------------------------------\n",
      "B          complex    (2+5j)\n",
      "a          bool       True\n",
      "abcd       float      6543.98\n",
      "b          bool       False\n",
      "c          bool       True\n",
      "d          int        7\n",
      "e          int        8\n",
      "f          int        4\n",
      "g          float      9.0\n",
      "y          int        6\n"
     ]
    }
   ],
   "source": [
    "%whos"
   ]
  },
  {
   "cell_type": "code",
   "execution_count": 33,
   "id": "e7befc8e",
   "metadata": {},
   "outputs": [
    {
     "name": "stdout",
     "output_type": "stream",
     "text": [
      "False\n"
     ]
    },
    {
     "data": {
      "text/plain": [
       "False"
      ]
     },
     "execution_count": 33,
     "metadata": {},
     "output_type": "execute_result"
    }
   ],
   "source": [
    "print(not(2!=3)and True) or (False and True)"
   ]
  },
  {
   "cell_type": "code",
   "execution_count": 34,
   "id": "db1fd8bc",
   "metadata": {},
   "outputs": [
    {
     "data": {
      "text/plain": [
       "4"
      ]
     },
     "execution_count": 34,
     "metadata": {},
     "output_type": "execute_result"
    }
   ],
   "source": [
    "round(4.5)"
   ]
  },
  {
   "cell_type": "code",
   "execution_count": 36,
   "id": "543755c9",
   "metadata": {},
   "outputs": [
    {
     "data": {
      "text/plain": [
       "5"
      ]
     },
     "execution_count": 36,
     "metadata": {},
     "output_type": "execute_result"
    }
   ],
   "source": [
    "round(4.5557)"
   ]
  },
  {
   "cell_type": "code",
   "execution_count": 40,
   "id": "d2502f8b",
   "metadata": {},
   "outputs": [
    {
     "data": {
      "text/plain": [
       "4.56"
      ]
     },
     "execution_count": 40,
     "metadata": {},
     "output_type": "execute_result"
    }
   ],
   "source": [
    "round(4.5557,2)"
   ]
  },
  {
   "cell_type": "code",
   "execution_count": 41,
   "id": "f06138c3",
   "metadata": {},
   "outputs": [
    {
     "data": {
      "text/plain": [
       "4.558"
      ]
     },
     "execution_count": 41,
     "metadata": {},
     "output_type": "execute_result"
    }
   ],
   "source": [
    "round(4.55842,3)"
   ]
  },
  {
   "cell_type": "code",
   "execution_count": 42,
   "id": "76477be2",
   "metadata": {},
   "outputs": [
    {
     "data": {
      "text/plain": [
       "(5, 2)"
      ]
     },
     "execution_count": 42,
     "metadata": {},
     "output_type": "execute_result"
    }
   ],
   "source": [
    "divmod(27,5)"
   ]
  },
  {
   "cell_type": "code",
   "execution_count": 43,
   "id": "c5889a95",
   "metadata": {},
   "outputs": [
    {
     "data": {
      "text/plain": [
       "[0]"
      ]
     },
     "execution_count": 43,
     "metadata": {},
     "output_type": "execute_result"
    }
   ],
   "source": [
    "[0]"
   ]
  },
  {
   "cell_type": "code",
   "execution_count": 44,
   "id": "893295b2",
   "metadata": {},
   "outputs": [
    {
     "data": {
      "text/plain": [
       "5"
      ]
     },
     "execution_count": 44,
     "metadata": {},
     "output_type": "execute_result"
    }
   ],
   "source": [
    "27//5\n"
   ]
  },
  {
   "cell_type": "code",
   "execution_count": 45,
   "id": "4c3e58d4",
   "metadata": {},
   "outputs": [
    {
     "name": "stdout",
     "output_type": "stream",
     "text": [
      "True\n"
     ]
    }
   ],
   "source": [
    "print(isinstance(1,int))"
   ]
  },
  {
   "cell_type": "code",
   "execution_count": 46,
   "id": "0c63c0b8",
   "metadata": {},
   "outputs": [
    {
     "name": "stdout",
     "output_type": "stream",
     "text": [
      "False\n"
     ]
    }
   ],
   "source": [
    "print(isinstance(1.8,int))"
   ]
  },
  {
   "cell_type": "code",
   "execution_count": 51,
   "id": "e8aadb7a",
   "metadata": {},
   "outputs": [
    {
     "name": "stdout",
     "output_type": "stream",
     "text": [
      "True\n"
     ]
    }
   ],
   "source": [
    "print(isinstance(False,(int,float)))"
   ]
  },
  {
   "cell_type": "code",
   "execution_count": 53,
   "id": "fedb5314",
   "metadata": {},
   "outputs": [
    {
     "data": {
      "text/plain": [
       "1"
      ]
     },
     "execution_count": 53,
     "metadata": {},
     "output_type": "execute_result"
    }
   ],
   "source": [
    "pow(2,4,3\n",
    "   )"
   ]
  },
  {
   "cell_type": "code",
   "execution_count": 54,
   "id": "fdd93a63",
   "metadata": {},
   "outputs": [
    {
     "name": "stdout",
     "output_type": "stream",
     "text": [
      "enter somethinghello world\n"
     ]
    }
   ],
   "source": [
    "a=input(\"enter something\")"
   ]
  },
  {
   "cell_type": "code",
   "execution_count": 55,
   "id": "fc956bd1",
   "metadata": {},
   "outputs": [
    {
     "name": "stdout",
     "output_type": "stream",
     "text": [
      "hello world\n"
     ]
    }
   ],
   "source": [
    "print(a)"
   ]
  },
  {
   "cell_type": "code",
   "execution_count": 56,
   "id": "9fb76b87",
   "metadata": {},
   "outputs": [
    {
     "name": "stdout",
     "output_type": "stream",
     "text": [
      "hello world\n"
     ]
    }
   ],
   "source": [
    "print(a)"
   ]
  },
  {
   "cell_type": "code",
   "execution_count": 60,
   "id": "90f9153c",
   "metadata": {},
   "outputs": [
    {
     "name": "stdout",
     "output_type": "stream",
     "text": [
      "Help on built-in function pow in module builtins:\n",
      "\n",
      "pow(base, exp, mod=None)\n",
      "    Equivalent to base**exp with 2 arguments or base**exp % mod with 3 arguments\n",
      "    \n",
      "    Some types, such as ints, are able to use a more efficient algorithm when\n",
      "    invoked using the three argument form.\n",
      "\n"
     ]
    }
   ],
   "source": [
    "help(pow)"
   ]
  },
  {
   "cell_type": "markdown",
   "id": "a177fccc",
   "metadata": {},
   "source": [
    "# Control flow\n"
   ]
  },
  {
   "cell_type": "code",
   "execution_count": 64,
   "id": "5334d5b8",
   "metadata": {},
   "outputs": [
    {
     "name": "stdout",
     "output_type": "stream",
     "text": [
      "enter the real numbers4545\n"
     ]
    }
   ],
   "source": [
    "a=int(input(\"enter the real numbers\"))"
   ]
  },
  {
   "cell_type": "code",
   "execution_count": 62,
   "id": "faf6a825",
   "metadata": {},
   "outputs": [
    {
     "name": "stdout",
     "output_type": "stream",
     "text": [
      "enter the another real numbers5\n"
     ]
    }
   ],
   "source": [
    "b=int(input(\"enter the another real numbers\"))"
   ]
  },
  {
   "cell_type": "code",
   "execution_count": 66,
   "id": "18fa6a33",
   "metadata": {},
   "outputs": [
    {
     "name": "stdout",
     "output_type": "stream",
     "text": [
      "enter the real numbers3434\n",
      "enter the another real numbers2434532\n",
      "greater 2434532\n"
     ]
    }
   ],
   "source": [
    "a=int(input(\"enter the real numbers\"))\n",
    "b=int(input(\"enter the another real numbers\"))\n",
    "if(a>5):\n",
    "    print(\"greater\",a)\n",
    "else:\n",
    "    print(\"greater\",b)"
   ]
  },
  {
   "cell_type": "code",
   "execution_count": 71,
   "id": "1b2002ae",
   "metadata": {},
   "outputs": [
    {
     "ename": "SyntaxError",
     "evalue": "invalid syntax (3522136705.py, line 2)",
     "output_type": "error",
     "traceback": [
      "\u001b[1;36m  File \u001b[1;32m\"C:\\Users\\User\\AppData\\Local\\Temp\\ipykernel_8916\\3522136705.py\"\u001b[1;36m, line \u001b[1;32m2\u001b[0m\n\u001b[1;33m    if(a==6 && a>=6):\u001b[0m\n\u001b[1;37m             ^\u001b[0m\n\u001b[1;31mSyntaxError\u001b[0m\u001b[1;31m:\u001b[0m invalid syntax\n"
     ]
    }
   ],
   "source": [
    "a=6\n",
    "if(a==6 && a>=6):\n",
    "    print(\"helko\")"
   ]
  },
  {
   "cell_type": "code",
   "execution_count": 74,
   "id": "cacd2ff9",
   "metadata": {},
   "outputs": [
    {
     "name": "stdout",
     "output_type": "stream",
     "text": [
      "odd\n"
     ]
    }
   ],
   "source": [
    "a=-237\n",
    "if(a%2==0):\n",
    "    print(\"even\")\n",
    "else:\n",
    "    print(\"odd\")\n",
    "\n",
    "    "
   ]
  },
  {
   "cell_type": "code",
   "execution_count": null,
   "id": "e9487202",
   "metadata": {},
   "outputs": [],
   "source": []
  }
 ],
 "metadata": {
  "kernelspec": {
   "display_name": "Python 3 (ipykernel)",
   "language": "python",
   "name": "python3"
  },
  "language_info": {
   "codemirror_mode": {
    "name": "ipython",
    "version": 3
   },
   "file_extension": ".py",
   "mimetype": "text/x-python",
   "name": "python",
   "nbconvert_exporter": "python",
   "pygments_lexer": "ipython3",
   "version": "3.9.13"
  }
 },
 "nbformat": 4,
 "nbformat_minor": 5
}
