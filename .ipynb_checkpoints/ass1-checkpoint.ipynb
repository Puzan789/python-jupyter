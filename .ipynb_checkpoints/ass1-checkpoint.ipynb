{
 "cells": [
  {
   "cell_type": "code",
   "execution_count": 1,
   "metadata": {},
   "outputs": [
    {
     "name": "stdout",
     "output_type": "stream",
     "text": [
      "hello world!\n"
     ]
    }
   ],
   "source": [
    "print(\"hello world!\")"
   ]
  },
  {
   "cell_type": "markdown",
   "metadata": {
    "tags": []
   },
   "source": [
    "# Write a code to find the minimum among three given numbers.\n"
   ]
  },
  {
   "cell_type": "code",
   "execution_count": 5,
   "metadata": {},
   "outputs": [
    {
     "name": "stdout",
     "output_type": "stream",
     "text": [
      "6\n"
     ]
    }
   ],
   "source": [
    "a=6\n",
    "b=5\n",
    "c=2\n",
    "if(a>b and a>c):\n",
    "    print(a)\n",
    "elif(b>a and b>c):\n",
    "    print (b)\n",
    "else:\n",
    "    print(c)\n",
    "    \n",
    "    \n"
   ]
  },
  {
   "cell_type": "markdown",
   "metadata": {},
   "source": [
    "# 18. The road transport corporation (RTC) of a city wants to know whether a particular bus-route is running on profit or loss.\n",
    "\n",
    "\n",
    "\n",
    "Assume that the following information are given:\n",
    "Price per litre of fuel = 70\n",
    "Mileage of the bus in km/litre of fuel = 10\n",
    "Price(Rs) per ticket = 80\n",
    "\n",
    "The bus runs on multiple routes having different distance in kms and number of passengers.\n",
    "Write a function to calculate and return the profit earned (Rs) in each route. Return -1 in case of loss.\n"
   ]
  },
  {
   "cell_type": "code",
   "execution_count": 4,
   "metadata": {},
   "outputs": [
    {
     "name": "stdout",
     "output_type": "stream",
     "text": [
      "Total distance in KM78\n",
      "Total passengers90\n",
      "('profit :', 1740)\n"
     ]
    }
   ],
   "source": [
    "def profitorloss():\n",
    "    priceperlitre=70\n",
    "    mileage=10\n",
    "    ticketprice=80\n",
    "    distance=int(input(\"Total distance in KM\"))\n",
    "    totalpassengers=int(input(\"Total passengers\"))\n",
    "    profit=totalpassengers*ticketprice-priceperlitre*distance\n",
    "    if(profit>0):\n",
    "        return \"profit :\",profit\n",
    "    else:\n",
    "        return -1\n",
    "\n",
    "print(profitorloss())\n"
   ]
  },
  {
   "cell_type": "markdown",
   "metadata": {},
   "source": [
    "## String"
   ]
  },
  {
   "cell_type": "code",
   "execution_count": 7,
   "metadata": {},
   "outputs": [
    {
     "name": "stdout",
     "output_type": "stream",
     "text": [
      "hello world\n"
     ]
    }
   ],
   "source": [
    "s=\"hello\"\n",
    "p=\"world\"\n",
    "print(s+\" \"+p)"
   ]
  },
  {
   "cell_type": "code",
   "execution_count": 8,
   "metadata": {},
   "outputs": [],
   "source": [
    "print?"
   ]
  },
  {
   "cell_type": "code",
   "execution_count": 9,
   "metadata": {},
   "outputs": [],
   "source": []
  },
  {
   "cell_type": "code",
   "execution_count": null,
   "metadata": {},
   "outputs": [],
   "source": []
  }
 ],
 "metadata": {
  "kernelspec": {
   "display_name": "Python 3 (ipykernel)",
   "language": "python",
   "name": "python3"
  },
  "language_info": {
   "codemirror_mode": {
    "name": "ipython",
    "version": 3
   },
   "file_extension": ".py",
   "mimetype": "text/x-python",
   "name": "python",
   "nbconvert_exporter": "python",
   "pygments_lexer": "ipython3",
   "version": "3.9.13"
  },
  "vscode": {
   "interpreter": {
    "hash": "ad2bdc8ecc057115af97d19610ffacc2b4e99fae6737bb82f5d7fb13d2f2c186"
   }
  }
 },
 "nbformat": 4,
 "nbformat_minor": 2
}
