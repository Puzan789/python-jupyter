{
 "cells": [
  {
   "cell_type": "markdown",
   "id": "a416b6c2",
   "metadata": {},
   "source": [
    "# OOP(object oriented programming)"
   ]
  },
  {
   "cell_type": "code",
   "execution_count": 6,
   "id": "37ff549a",
   "metadata": {},
   "outputs": [
    {
     "name": "stdout",
     "output_type": "stream",
     "text": [
      "hello world\n"
     ]
    }
   ],
   "source": [
    "class helping:\n",
    "    def pukar():\n",
    "        print(\"hello world\")\n",
    "p=helping\n",
    "p.pukar()"
   ]
  },
  {
   "cell_type": "code",
   "execution_count": 20,
   "id": "d9409164",
   "metadata": {},
   "outputs": [
    {
     "name": "stdout",
     "output_type": "stream",
     "text": [
      "5\n"
     ]
    }
   ],
   "source": [
    "class item():\n",
    "    def __init__(self,x,y):\n",
    "        self.x=x\n",
    "        self.y=y\n",
    "    def tot(self):\n",
    "        print(self.x)\n",
    "\n",
    "item1=item(5,9)\n",
    "item1.tot()\n"
   ]
  },
  {
   "cell_type": "code",
   "execution_count": 24,
   "id": "42820271",
   "metadata": {},
   "outputs": [
    {
     "name": "stdout",
     "output_type": "stream",
     "text": [
      "5\n"
     ]
    }
   ],
   "source": [
    "class item():\n",
    "    def __init__(self,x,y):\n",
    "        self.x=x\n",
    "        self.y=y\n",
    "    def tot(self):\n",
    "        print(self.x)\n",
    "\n",
    "item1=item(5,6)\n",
    "item1.tot()"
   ]
  },
  {
   "cell_type": "code",
   "execution_count": 26,
   "id": "d33c8c94",
   "metadata": {},
   "outputs": [
    {
     "name": "stdout",
     "output_type": "stream",
     "text": [
      "2800\n"
     ]
    }
   ],
   "source": [
    "class press:\n",
    "    def total(self,x,y):\n",
    "        return x*y\n",
    "p=press()\n",
    "\n",
    "print(p.total(70,40))"
   ]
  },
  {
   "cell_type": "markdown",
   "id": "e1f209e1",
   "metadata": {},
   "source": [
    "# Constructors"
   ]
  },
  {
   "cell_type": "code",
   "execution_count": 41,
   "id": "7b1ab739",
   "metadata": {},
   "outputs": [
    {
     "name": "stdout",
     "output_type": "stream",
     "text": [
      "i am self created puzan\n",
      "i am self created rekhs\n"
     ]
    }
   ],
   "source": [
    "class items:\n",
    "    def __init__(self,name):\n",
    "        self.name=name\n",
    "        print(\"i am self created\",self.name)\n",
    "item1=items(\"puzan\")\n",
    "item2=items(\"rekhs\")"
   ]
  },
  {
   "cell_type": "code",
   "execution_count": 46,
   "id": "8c4f0784",
   "metadata": {},
   "outputs": [
    {
     "name": "stdout",
     "output_type": "stream",
     "text": [
      "i am self created pupdsadfsfd\n",
      "i am self created rekhsjdis\n"
     ]
    }
   ],
   "source": [
    "class items:\n",
    "    def __init__(self,name):\n",
    "        assert len(name)>6 #name should be greater than 6\n",
    "        self.name=name\n",
    "        print(\"i am self created\",self.name)\n",
    "item1=items(\"pupdsadfsfd\")\n",
    "item2=items(\"rekhsjdis\")"
   ]
  },
  {
   "cell_type": "code",
   "execution_count": null,
   "id": "74bbb097",
   "metadata": {},
   "outputs": [],
   "source": []
  }
 ],
 "metadata": {
  "kernelspec": {
   "display_name": "Python 3 (ipykernel)",
   "language": "python",
   "name": "python3"
  },
  "language_info": {
   "codemirror_mode": {
    "name": "ipython",
    "version": 3
   },
   "file_extension": ".py",
   "mimetype": "text/x-python",
   "name": "python",
   "nbconvert_exporter": "python",
   "pygments_lexer": "ipython3",
   "version": "3.9.13"
  }
 },
 "nbformat": 4,
 "nbformat_minor": 5
}
