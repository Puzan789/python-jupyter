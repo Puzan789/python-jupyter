{
 "cells": [
  {
   "cell_type": "markdown",
   "id": "552bae34",
   "metadata": {},
   "source": [
    "# Regular Expressions"
   ]
  },
  {
   "cell_type": "code",
   "execution_count": 1,
   "id": "0bacb114",
   "metadata": {},
   "outputs": [
    {
     "data": {
      "text/plain": [
       "'Ravi is 21 Sansa is 45 and Cillian is 32'"
      ]
     },
     "execution_count": 1,
     "metadata": {},
     "output_type": "execute_result"
    }
   ],
   "source": [
    "import re\n",
    "nameage='''Ravi is 21 Sansa is 45 and Cillian is 32'''\n",
    "nameage"
   ]
  },
  {
   "cell_type": "code",
   "execution_count": 6,
   "id": "5a8ec531",
   "metadata": {},
   "outputs": [],
   "source": [
    "ages=re.findall('\\d{1,3}',nameage)"
   ]
  },
  {
   "cell_type": "code",
   "execution_count": 7,
   "id": "c73014cb",
   "metadata": {},
   "outputs": [
    {
     "name": "stdout",
     "output_type": "stream",
     "text": [
      "['21', '45', '32']\n"
     ]
    }
   ],
   "source": [
    "print(ages)"
   ]
  },
  {
   "cell_type": "code",
   "execution_count": 17,
   "id": "562d74be",
   "metadata": {},
   "outputs": [],
   "source": [
    "names=re.findall(r'[A-Z][a-z]*',nameage)"
   ]
  },
  {
   "cell_type": "code",
   "execution_count": 19,
   "id": "56b59e34",
   "metadata": {},
   "outputs": [
    {
     "data": {
      "text/plain": [
       "['Ravi', 'Sansa', 'Cillian']"
      ]
     },
     "execution_count": 19,
     "metadata": {},
     "output_type": "execute_result"
    }
   ],
   "source": [
    "names # * is used to print all the word .if there is no * than output will be like Ra Sa."
   ]
  },
  {
   "cell_type": "code",
   "execution_count": 20,
   "id": "b73e5781",
   "metadata": {},
   "outputs": [
    {
     "name": "stdout",
     "output_type": "stream",
     "text": [
      "{'Ravi': '21', 'Sansa': '45', 'Cillian': '32'}\n"
     ]
    }
   ],
   "source": [
    "agedict={}\n",
    "x=0\n",
    "for eachname in names:\n",
    "    agedict[eachname]=ages[x]\n",
    "    x+=1\n",
    "print(agedict)\n"
   ]
  },
  {
   "cell_type": "code",
   "execution_count": 21,
   "id": "e631fa16",
   "metadata": {},
   "outputs": [
    {
     "name": "stdout",
     "output_type": "stream",
     "text": [
      "yes there is \n"
     ]
    }
   ],
   "source": [
    "if re.search('is',nameage):\n",
    "    print(\"yes there is \")"
   ]
  },
  {
   "cell_type": "code",
   "execution_count": 24,
   "id": "5c9d54e7",
   "metadata": {},
   "outputs": [],
   "source": [
    "x=re.findall('is',nameage)"
   ]
  },
  {
   "cell_type": "code",
   "execution_count": 25,
   "id": "9ce0d3f1",
   "metadata": {},
   "outputs": [
    {
     "data": {
      "text/plain": [
       "['is', 'is', 'is']"
      ]
     },
     "execution_count": 25,
     "metadata": {},
     "output_type": "execute_result"
    }
   ],
   "source": [
    "x"
   ]
  },
  {
   "cell_type": "code",
   "execution_count": 30,
   "id": "bdbf8847",
   "metadata": {},
   "outputs": [
    {
     "name": "stdout",
     "output_type": "stream",
     "text": [
      "(0, 2)\n"
     ]
    }
   ],
   "source": [
    "string=\"we all need to be happy in the life \"\n",
    "for i in re.finditer('we',string):\n",
    "    pop=i.span()\n",
    "    print(pop)"
   ]
  },
  {
   "cell_type": "code",
   "execution_count": 36,
   "id": "8a200c67",
   "metadata": {},
   "outputs": [
    {
     "name": "stdout",
     "output_type": "stream",
     "text": [
      "sat\n",
      "mat\n",
      "hat\n",
      "pat\n"
     ]
    }
   ],
   "source": [
    "import re\n",
    "str='sat,mat,hat,pat,cat'\n",
    "allstr=re.findall('[smhp]at',str)\n",
    "for i in allstr:\n",
    "    print(i)"
   ]
  },
  {
   "cell_type": "code",
   "execution_count": null,
   "id": "70acc494",
   "metadata": {},
   "outputs": [],
   "source": []
  }
 ],
 "metadata": {
  "kernelspec": {
   "display_name": "Python 3 (ipykernel)",
   "language": "python",
   "name": "python3"
  },
  "language_info": {
   "codemirror_mode": {
    "name": "ipython",
    "version": 3
   },
   "file_extension": ".py",
   "mimetype": "text/x-python",
   "name": "python",
   "nbconvert_exporter": "python",
   "pygments_lexer": "ipython3",
   "version": "3.9.13"
  }
 },
 "nbformat": 4,
 "nbformat_minor": 5
}
