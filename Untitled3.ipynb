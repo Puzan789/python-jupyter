{
 "cells": [
  {
   "cell_type": "code",
   "execution_count": 1,
   "id": "10292e70",
   "metadata": {},
   "outputs": [
    {
     "name": "stdout",
     "output_type": "stream",
     "text": [
      "your task was successfull\n"
     ]
    }
   ],
   "source": [
    "def printsuccess():\n",
    "    '''this function does nothing'''\n",
    "    print(\"your task was successfull\")\n",
    "printsuccess()"
   ]
  },
  {
   "cell_type": "code",
   "execution_count": 2,
   "id": "dd3dd0d7",
   "metadata": {},
   "outputs": [
    {
     "ename": "SyntaxError",
     "evalue": "closing parenthesis '}' does not match opening parenthesis '(' (103366690.py, line 1)",
     "output_type": "error",
     "traceback": [
      "\u001b[1;36m  File \u001b[1;32m\"C:\\Users\\User\\AppData\\Local\\Temp\\ipykernel_13744\\103366690.py\"\u001b[1;36m, line \u001b[1;32m1\u001b[0m\n\u001b[1;33m    printsuccess(})\u001b[0m\n\u001b[1;37m                 ^\u001b[0m\n\u001b[1;31mSyntaxError\u001b[0m\u001b[1;31m:\u001b[0m closing parenthesis '}' does not match opening parenthesis '('\n"
     ]
    }
   ],
   "source": [
    "printsuccess(})"
   ]
  },
  {
   "cell_type": "code",
   "execution_count": 3,
   "id": "ff265478",
   "metadata": {},
   "outputs": [
    {
     "name": "stdout",
     "output_type": "stream",
     "text": [
      "your task was successfull\n"
     ]
    }
   ],
   "source": [
    "printsuccess()"
   ]
  },
  {
   "cell_type": "code",
   "execution_count": 4,
   "id": "ce40a05a",
   "metadata": {},
   "outputs": [
    {
     "name": "stdout",
     "output_type": "stream",
     "text": [
      "Help on function printsuccess in module __main__:\n",
      "\n",
      "printsuccess()\n",
      "\n"
     ]
    }
   ],
   "source": [
    "help(printsuccess)"
   ]
  },
  {
   "cell_type": "code",
   "execution_count": 7,
   "id": "12c0ea14",
   "metadata": {},
   "outputs": [],
   "source": [
    "def greet():\n",
    "        \"\"\" this function is greeting to the users.\n",
    "            users got th greet\n",
    "        \"\"\"\n",
    "        print(\"hello world hero\")"
   ]
  },
  {
   "cell_type": "code",
   "execution_count": 8,
   "id": "6eb6e7fa",
   "metadata": {},
   "outputs": [
    {
     "name": "stdout",
     "output_type": "stream",
     "text": [
      "hello world hero\n"
     ]
    }
   ],
   "source": [
    "greet()"
   ]
  },
  {
   "cell_type": "code",
   "execution_count": 6,
   "id": "422634ac",
   "metadata": {},
   "outputs": [
    {
     "ename": "NameError",
     "evalue": "name 'greet' is not defined",
     "output_type": "error",
     "traceback": [
      "\u001b[1;31m---------------------------------------------------------------------------\u001b[0m",
      "\u001b[1;31mNameError\u001b[0m                                 Traceback (most recent call last)",
      "\u001b[1;32m~\\AppData\\Local\\Temp\\ipykernel_13744\\2890983093.py\u001b[0m in \u001b[0;36m<module>\u001b[1;34m\u001b[0m\n\u001b[1;32m----> 1\u001b[1;33m \u001b[0mgreet\u001b[0m\u001b[1;33m(\u001b[0m\u001b[1;33m)\u001b[0m\u001b[1;33m\u001b[0m\u001b[1;33m\u001b[0m\u001b[0m\n\u001b[0m",
      "\u001b[1;31mNameError\u001b[0m: name 'greet' is not defined"
     ]
    }
   ],
   "source": [
    "greet()"
   ]
  },
  {
   "cell_type": "code",
   "execution_count": 9,
   "id": "7bcb3872",
   "metadata": {},
   "outputs": [
    {
     "name": "stdout",
     "output_type": "stream",
     "text": [
      "hello world hero\n"
     ]
    }
   ],
   "source": [
    "greet()"
   ]
  },
  {
   "cell_type": "code",
   "execution_count": 10,
   "id": "f54a60d7",
   "metadata": {},
   "outputs": [
    {
     "ename": "SyntaxError",
     "evalue": "invalid syntax (2648832034.py, line 1)",
     "output_type": "error",
     "traceback": [
      "\u001b[1;36m  File \u001b[1;32m\"C:\\Users\\User\\AppData\\Local\\Temp\\ipykernel_13744\\2648832034.py\"\u001b[1;36m, line \u001b[1;32m1\u001b[0m\n\u001b[1;33m    greet()?\u001b[0m\n\u001b[1;37m           ^\u001b[0m\n\u001b[1;31mSyntaxError\u001b[0m\u001b[1;31m:\u001b[0m invalid syntax\n"
     ]
    }
   ],
   "source": [
    "greet()?"
   ]
  },
  {
   "cell_type": "code",
   "execution_count": 11,
   "id": "f2f5d5fe",
   "metadata": {},
   "outputs": [],
   "source": [
    "greet?"
   ]
  },
  {
   "cell_type": "code",
   "execution_count": 12,
   "id": "ef1c72ab",
   "metadata": {},
   "outputs": [],
   "source": [
    "greet??"
   ]
  },
  {
   "cell_type": "code",
   "execution_count": 13,
   "id": "d2ae5f4c",
   "metadata": {},
   "outputs": [],
   "source": [
    "len?\n"
   ]
  },
  {
   "cell_type": "code",
   "execution_count": 14,
   "id": "3363d4b8",
   "metadata": {},
   "outputs": [],
   "source": [
    "len??"
   ]
  },
  {
   "cell_type": "code",
   "execution_count": 15,
   "id": "df08a8dc",
   "metadata": {},
   "outputs": [],
   "source": [
    "def printmessage(msg):\n",
    "    print(msg)"
   ]
  },
  {
   "cell_type": "code",
   "execution_count": 17,
   "id": "107a50be",
   "metadata": {},
   "outputs": [
    {
     "name": "stdout",
     "output_type": "stream",
     "text": [
      "hello\n"
     ]
    }
   ],
   "source": [
    "printmessage(\"hello\")"
   ]
  },
  {
   "cell_type": "code",
   "execution_count": 20,
   "id": "4673bb67",
   "metadata": {},
   "outputs": [
    {
     "ename": "AttributeError",
     "evalue": "'int' object has no attribute 'a'",
     "output_type": "error",
     "traceback": [
      "\u001b[1;31m---------------------------------------------------------------------------\u001b[0m",
      "\u001b[1;31mAttributeError\u001b[0m                            Traceback (most recent call last)",
      "\u001b[1;32m~\\AppData\\Local\\Temp\\ipykernel_13744\\4030542998.py\u001b[0m in \u001b[0;36m<module>\u001b[1;34m\u001b[0m\n\u001b[0;32m      3\u001b[0m     \u001b[0mz\u001b[0m\u001b[1;33m=\u001b[0m\u001b[0mself\u001b[0m\u001b[1;33m.\u001b[0m\u001b[0mb\u001b[0m\u001b[1;33m\u001b[0m\u001b[1;33m\u001b[0m\u001b[0m\n\u001b[0;32m      4\u001b[0m     \u001b[0mprint\u001b[0m\u001b[1;33m(\u001b[0m\u001b[0mx\u001b[0m\u001b[1;33m,\u001b[0m\u001b[0mz\u001b[0m\u001b[1;33m)\u001b[0m\u001b[1;33m\u001b[0m\u001b[1;33m\u001b[0m\u001b[0m\n\u001b[1;32m----> 5\u001b[1;33m \u001b[0madd\u001b[0m\u001b[1;33m(\u001b[0m\u001b[1;36m6\u001b[0m\u001b[1;33m,\u001b[0m\u001b[1;36m7\u001b[0m\u001b[1;33m,\u001b[0m\u001b[1;36m8\u001b[0m\u001b[1;33m)\u001b[0m\u001b[1;33m\u001b[0m\u001b[1;33m\u001b[0m\u001b[0m\n\u001b[0m",
      "\u001b[1;32m~\\AppData\\Local\\Temp\\ipykernel_13744\\4030542998.py\u001b[0m in \u001b[0;36madd\u001b[1;34m(self, a, b)\u001b[0m\n\u001b[0;32m      1\u001b[0m \u001b[1;32mdef\u001b[0m \u001b[0madd\u001b[0m\u001b[1;33m(\u001b[0m\u001b[0mself\u001b[0m\u001b[1;33m,\u001b[0m\u001b[0ma\u001b[0m\u001b[1;33m,\u001b[0m\u001b[0mb\u001b[0m\u001b[1;33m)\u001b[0m\u001b[1;33m:\u001b[0m\u001b[1;33m\u001b[0m\u001b[1;33m\u001b[0m\u001b[0m\n\u001b[1;32m----> 2\u001b[1;33m     \u001b[0mx\u001b[0m\u001b[1;33m=\u001b[0m\u001b[0mself\u001b[0m\u001b[1;33m.\u001b[0m\u001b[0ma\u001b[0m\u001b[1;33m\u001b[0m\u001b[1;33m\u001b[0m\u001b[0m\n\u001b[0m\u001b[0;32m      3\u001b[0m     \u001b[0mz\u001b[0m\u001b[1;33m=\u001b[0m\u001b[0mself\u001b[0m\u001b[1;33m.\u001b[0m\u001b[0mb\u001b[0m\u001b[1;33m\u001b[0m\u001b[1;33m\u001b[0m\u001b[0m\n\u001b[0;32m      4\u001b[0m     \u001b[0mprint\u001b[0m\u001b[1;33m(\u001b[0m\u001b[0mx\u001b[0m\u001b[1;33m,\u001b[0m\u001b[0mz\u001b[0m\u001b[1;33m)\u001b[0m\u001b[1;33m\u001b[0m\u001b[1;33m\u001b[0m\u001b[0m\n\u001b[0;32m      5\u001b[0m \u001b[0madd\u001b[0m\u001b[1;33m(\u001b[0m\u001b[1;36m6\u001b[0m\u001b[1;33m,\u001b[0m\u001b[1;36m7\u001b[0m\u001b[1;33m,\u001b[0m\u001b[1;36m8\u001b[0m\u001b[1;33m)\u001b[0m\u001b[1;33m\u001b[0m\u001b[1;33m\u001b[0m\u001b[0m\n",
      "\u001b[1;31mAttributeError\u001b[0m: 'int' object has no attribute 'a'"
     ]
    }
   ],
   "source": [
    "def add(self,a,b):\n",
    "    x=self.a\n",
    "    z=self.b\n",
    "    print(x,z)\n",
    "add(6,7,8)"
   ]
  },
  {
   "cell_type": "code",
   "execution_count": 21,
   "id": "b8d2bab5",
   "metadata": {},
   "outputs": [],
   "source": [
    "def tassk():\n",
    "    print(\"hello world you are the world dangererous person in the world\")"
   ]
  },
  {
   "cell_type": "code",
   "execution_count": 22,
   "id": "ccfd7374",
   "metadata": {},
   "outputs": [
    {
     "name": "stdout",
     "output_type": "stream",
     "text": [
      "hello world you are the world dangererous person in the world\n"
     ]
    }
   ],
   "source": [
    "tassk()"
   ]
  },
  {
   "cell_type": "code",
   "execution_count": 23,
   "id": "17d23b30",
   "metadata": {},
   "outputs": [
    {
     "name": "stdout",
     "output_type": "stream",
     "text": [
      "hello world hello world raksal\n"
     ]
    }
   ],
   "source": [
    "def printmessage(ms1,ms2):\n",
    "    print(ms1,ms2)\n",
    "printmessage(\"hello world\",\"hello world raksal\")"
   ]
  },
  {
   "cell_type": "code",
   "execution_count": 24,
   "id": "3f65d4d6",
   "metadata": {},
   "outputs": [
    {
     "name": "stdout",
     "output_type": "stream",
     "text": [
      "4\n"
     ]
    }
   ],
   "source": [
    "def mypow(a,b):\n",
    "    return (a**b)\n",
    "c=mypow(2,2)\n",
    "print(c)"
   ]
  },
  {
   "cell_type": "code",
   "execution_count": 25,
   "id": "0b28b015",
   "metadata": {},
   "outputs": [
    {
     "name": "stdout",
     "output_type": "stream",
     "text": [
      "120\n"
     ]
    }
   ],
   "source": [
    "def disptypes(a,b,c,d):\n",
    "    return a*b*c*d\n",
    "c=disptypes(2,3,4,5)\n",
    "print(c)"
   ]
  },
  {
   "cell_type": "code",
   "execution_count": null,
   "id": "c3f20cca",
   "metadata": {},
   "outputs": [],
   "source": [
    "def ()"
   ]
  }
 ],
 "metadata": {
  "kernelspec": {
   "display_name": "Python 3 (ipykernel)",
   "language": "python",
   "name": "python3"
  },
  "language_info": {
   "codemirror_mode": {
    "name": "ipython",
    "version": 3
   },
   "file_extension": ".py",
   "mimetype": "text/x-python",
   "name": "python",
   "nbconvert_exporter": "python",
   "pygments_lexer": "ipython3",
   "version": "3.9.13"
  }
 },
 "nbformat": 4,
 "nbformat_minor": 5
}
