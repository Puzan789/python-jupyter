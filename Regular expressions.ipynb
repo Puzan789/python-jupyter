{
 "cells": [
  {
   "cell_type": "markdown",
   "id": "23c1f343",
   "metadata": {},
   "source": [
    "# Regular Expressions"
   ]
  },
  {
   "cell_type": "code",
   "execution_count": 1,
   "id": "3fff0f97",
   "metadata": {},
   "outputs": [
    {
     "data": {
      "text/plain": [
       "'Ravi is 21 Sansa is 45 and Cillian is 32'"
      ]
     },
     "execution_count": 1,
     "metadata": {},
     "output_type": "execute_result"
    }
   ],
   "source": [
    "import re\n",
    "nameage='''Ravi is 21 Sansa is 45 and Cillian is 32'''\n",
    "nameage"
   ]
  },
  {
   "cell_type": "code",
   "execution_count": 6,
   "id": "5c2d1aaf",
   "metadata": {},
   "outputs": [],
   "source": [
    "ages=re.findall('\\d{1,3}',nameage)"
   ]
  },
  {
   "cell_type": "code",
   "execution_count": 7,
   "id": "24e9f18b",
   "metadata": {},
   "outputs": [
    {
     "name": "stdout",
     "output_type": "stream",
     "text": [
      "['21', '45', '32']\n"
     ]
    }
   ],
   "source": [
    "print(ages)"
   ]
  },
  {
   "cell_type": "code",
   "execution_count": 17,
   "id": "3638db6b",
   "metadata": {},
   "outputs": [],
   "source": [
    "names=re.findall(r'[A-Z][a-z]*',nameage)"
   ]
  },
  {
   "cell_type": "code",
   "execution_count": 19,
   "id": "44f347da",
   "metadata": {},
   "outputs": [
    {
     "data": {
      "text/plain": [
       "['Ravi', 'Sansa', 'Cillian']"
      ]
     },
     "execution_count": 19,
     "metadata": {},
     "output_type": "execute_result"
    }
   ],
   "source": [
    "names # * is used to print all the word .if there is no * than output will be like Ra Sa."
   ]
  },
  {
   "cell_type": "code",
   "execution_count": 20,
   "id": "1d3fd418",
   "metadata": {},
   "outputs": [
    {
     "name": "stdout",
     "output_type": "stream",
     "text": [
      "{'Ravi': '21', 'Sansa': '45', 'Cillian': '32'}\n"
     ]
    }
   ],
   "source": [
    "agedict={}\n",
    "x=0\n",
    "for eachname in names:\n",
    "    agedict[eachname]=ages[x]\n",
    "    x+=1\n",
    "print(agedict)\n"
   ]
  },
  {
   "cell_type": "code",
   "execution_count": 21,
   "id": "8c1562e2",
   "metadata": {},
   "outputs": [
    {
     "name": "stdout",
     "output_type": "stream",
     "text": [
      "yes there is \n"
     ]
    }
   ],
   "source": [
    "if re.search('is',nameage):\n",
    "    print(\"yes there is \")"
   ]
  },
  {
   "cell_type": "code",
   "execution_count": 24,
   "id": "88bf6a60",
   "metadata": {},
   "outputs": [],
   "source": [
    "x=re.findall('is',nameage)"
   ]
  },
  {
   "cell_type": "code",
   "execution_count": 25,
   "id": "c3a42514",
   "metadata": {},
   "outputs": [
    {
     "data": {
      "text/plain": [
       "['is', 'is', 'is']"
      ]
     },
     "execution_count": 25,
     "metadata": {},
     "output_type": "execute_result"
    }
   ],
   "source": [
    "x"
   ]
  },
  {
   "cell_type": "code",
   "execution_count": 30,
   "id": "6910fddd",
   "metadata": {},
   "outputs": [
    {
     "name": "stdout",
     "output_type": "stream",
     "text": [
      "(0, 2)\n"
     ]
    }
   ],
   "source": [
    "string=\"we all need to be happy in the life \"\n",
    "for i in re.finditer('we',string):\n",
    "    pop=i.span()\n",
    "    print(pop)"
   ]
  },
  {
   "cell_type": "code",
   "execution_count": 36,
   "id": "ac3d94bd",
   "metadata": {},
   "outputs": [
    {
     "name": "stdout",
     "output_type": "stream",
     "text": [
      "sat\n",
      "mat\n",
      "hat\n",
      "pat\n"
     ]
    }
   ],
   "source": [
    "import re\n",
    "str='sat,mat,hat,pat,cat'\n",
    "allstr=re.findall('[smhp]at',str)\n",
    "for i in allstr:\n",
    "    print(i)"
   ]
  },
  {
   "cell_type": "code",
   "execution_count": 38,
   "id": "517167ac",
   "metadata": {},
   "outputs": [],
   "source": [
    "somestr=re.findall('[^h-m]at',str)"
   ]
  },
  {
   "cell_type": "code",
   "execution_count": 39,
   "id": "a7856528",
   "metadata": {},
   "outputs": [
    {
     "data": {
      "text/plain": [
       "['sat', 'pat', 'cat']"
      ]
     },
     "execution_count": 39,
     "metadata": {},
     "output_type": "execute_result"
    }
   ],
   "source": [
    "somestr"
   ]
  },
  {
   "cell_type": "code",
   "execution_count": 42,
   "id": "eecba162",
   "metadata": {},
   "outputs": [
    {
     "data": {
      "text/plain": [
       "'apple,banana,apple'"
      ]
     },
     "execution_count": 42,
     "metadata": {},
     "output_type": "execute_result"
    }
   ],
   "source": [
    "food='apple,banana,meat'\n",
    "regex=re.compile('[m]eat')\n",
    "regex.sub('apple',food)\n"
   ]
  },
  {
   "cell_type": "code",
   "execution_count": null,
   "id": "603277a7",
   "metadata": {},
   "outputs": [],
   "source": []
  }
 ],
 "metadata": {
  "kernelspec": {
   "display_name": "Python 3 (ipykernel)",
   "language": "python",
   "name": "python3"
  },
  "language_info": {
   "codemirror_mode": {
    "name": "ipython",
    "version": 3
   },
   "file_extension": ".py",
   "mimetype": "text/x-python",
   "name": "python",
   "nbconvert_exporter": "python",
   "pygments_lexer": "ipython3",
   "version": "3.9.13"
  }
 },
 "nbformat": 4,
 "nbformat_minor": 5
}
